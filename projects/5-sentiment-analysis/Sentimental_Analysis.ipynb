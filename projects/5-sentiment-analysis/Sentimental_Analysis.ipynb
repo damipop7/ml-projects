{
 "cells": [
  {
   "cell_type": "markdown",
   "id": "e7aec228-2bea-4565-9a2d-94885024635f",
   "metadata": {},
   "source": [
    "# Dami using Sentimental Analysis to build a chatbot"
   ]
  },
  {
   "cell_type": "code",
   "execution_count": 16,
   "id": "161e0501-f641-45cf-a4cd-c67b0dc46df5",
   "metadata": {
    "tags": []
   },
   "outputs": [
    {
     "data": {
      "text/html": [
       "Finishing last run (ID:tisvzvde) before initializing another..."
      ],
      "text/plain": [
       "<IPython.core.display.HTML object>"
      ]
     },
     "metadata": {},
     "output_type": "display_data"
    },
    {
     "data": {
      "application/vnd.jupyter.widget-view+json": {
       "model_id": "7401f688cc274b0e98791e6eee5e2fad",
       "version_major": 2,
       "version_minor": 0
      },
      "text/plain": [
       "VBox(children=(Label(value='0.001 MB of 0.001 MB uploaded\\r'), FloatProgress(value=1.0, max=1.0)))"
      ]
     },
     "metadata": {},
     "output_type": "display_data"
    },
    {
     "data": {
      "text/html": [
       " View run <strong style=\"color:#cdcd00\">wise-meadow-3</strong> at: <a href='https://wandb.ai/damipop7/ml-projects-projects_5-sentiment-analysis_Documents_GitHub_ml-projects_projects_5-sentiment-analysis/runs/tisvzvde' target=\"_blank\">https://wandb.ai/damipop7/ml-projects-projects_5-sentiment-analysis_Documents_GitHub_ml-projects_projects_5-sentiment-analysis/runs/tisvzvde</a><br/> View job at <a href='https://wandb.ai/damipop7/ml-projects-projects_5-sentiment-analysis_Documents_GitHub_ml-projects_projects_5-sentiment-analysis/jobs/QXJ0aWZhY3RDb2xsZWN0aW9uOjEyNDI3MDIzNQ==/version_details/v0' target=\"_blank\">https://wandb.ai/damipop7/ml-projects-projects_5-sentiment-analysis_Documents_GitHub_ml-projects_projects_5-sentiment-analysis/jobs/QXJ0aWZhY3RDb2xsZWN0aW9uOjEyNDI3MDIzNQ==/version_details/v0</a><br/>Synced 5 W&B file(s), 0 media file(s), 0 artifact file(s) and 0 other file(s)"
      ],
      "text/plain": [
       "<IPython.core.display.HTML object>"
      ]
     },
     "metadata": {},
     "output_type": "display_data"
    },
    {
     "data": {
      "text/html": [
       "Find logs at: <code>./wandb/run-20231217_224950-tisvzvde/logs</code>"
      ],
      "text/plain": [
       "<IPython.core.display.HTML object>"
      ]
     },
     "metadata": {},
     "output_type": "display_data"
    },
    {
     "data": {
      "text/html": [
       "Successfully finished last run (ID:tisvzvde). Initializing new run:<br/>"
      ],
      "text/plain": [
       "<IPython.core.display.HTML object>"
      ]
     },
     "metadata": {},
     "output_type": "display_data"
    },
    {
     "data": {
      "application/vnd.jupyter.widget-view+json": {
       "model_id": "66cd6a45f70747c08e00b5e124824647",
       "version_major": 2,
       "version_minor": 0
      },
      "text/plain": [
       "VBox(children=(Label(value='Waiting for wandb.init()...\\r'), FloatProgress(value=0.011167654633108112, max=1.0…"
      ]
     },
     "metadata": {},
     "output_type": "display_data"
    },
    {
     "data": {
      "text/html": [
       "Tracking run with wandb version 0.16.1"
      ],
      "text/plain": [
       "<IPython.core.display.HTML object>"
      ]
     },
     "metadata": {},
     "output_type": "display_data"
    },
    {
     "data": {
      "text/html": [
       "Run data is saved locally in <code>/Users/oluwadamilolapopoola/Documents/GitHub/ml-projects/projects/5-sentiment-analysis/wandb/run-20231217_230416-nkrzq4im</code>"
      ],
      "text/plain": [
       "<IPython.core.display.HTML object>"
      ]
     },
     "metadata": {},
     "output_type": "display_data"
    },
    {
     "data": {
      "text/html": [
       "Syncing run <strong><a href='https://wandb.ai/damipop7/ml-projects-projects_5-sentiment-analysis_Documents_GitHub_ml-projects_projects_5-sentiment-analysis/runs/nkrzq4im' target=\"_blank\">toasty-aardvark-4</a></strong> to <a href='https://wandb.ai/damipop7/ml-projects-projects_5-sentiment-analysis_Documents_GitHub_ml-projects_projects_5-sentiment-analysis' target=\"_blank\">Weights & Biases</a> (<a href='https://wandb.me/run' target=\"_blank\">docs</a>)<br/>"
      ],
      "text/plain": [
       "<IPython.core.display.HTML object>"
      ]
     },
     "metadata": {},
     "output_type": "display_data"
    },
    {
     "data": {
      "text/html": [
       " View project at <a href='https://wandb.ai/damipop7/ml-projects-projects_5-sentiment-analysis_Documents_GitHub_ml-projects_projects_5-sentiment-analysis' target=\"_blank\">https://wandb.ai/damipop7/ml-projects-projects_5-sentiment-analysis_Documents_GitHub_ml-projects_projects_5-sentiment-analysis</a>"
      ],
      "text/plain": [
       "<IPython.core.display.HTML object>"
      ]
     },
     "metadata": {},
     "output_type": "display_data"
    },
    {
     "data": {
      "text/html": [
       " View run at <a href='https://wandb.ai/damipop7/ml-projects-projects_5-sentiment-analysis_Documents_GitHub_ml-projects_projects_5-sentiment-analysis/runs/nkrzq4im' target=\"_blank\">https://wandb.ai/damipop7/ml-projects-projects_5-sentiment-analysis_Documents_GitHub_ml-projects_projects_5-sentiment-analysis/runs/nkrzq4im</a>"
      ],
      "text/plain": [
       "<IPython.core.display.HTML object>"
      ]
     },
     "metadata": {},
     "output_type": "display_data"
    },
    {
     "data": {
      "text/html": [
       "<button onClick=\"this.nextSibling.style.display='block';this.style.display='none';\">Display W&B run</button><iframe src='https://wandb.ai/damipop7/ml-projects-projects_5-sentiment-analysis_Documents_GitHub_ml-projects_projects_5-sentiment-analysis/runs/nkrzq4im?jupyter=true' style='border:none;width:100%;height:420px;display:none;'></iframe>"
      ],
      "text/plain": [
       "<wandb.sdk.wandb_run.Run at 0x14cd074d0>"
      ]
     },
     "execution_count": 16,
     "metadata": {},
     "output_type": "execute_result"
    }
   ],
   "source": [
    "# This is a sentiment classifier \n",
    "# This code adds the incredibly useful scikit learn package to your toolkit, which is especially useful for processing text data.\n",
    "\n",
    "# This uses a \"naive bayes\" classifier instead of a neural net.\n",
    "# You can add keras to do the classification as an additional challenge\n",
    "# but the goal here is to improve the 66% validation accuracy to above\n",
    "# 68%.  One approach is to use TfidfVectorizer instead of CountVectorizer\n",
    "# and then SGDClassifier instead of naive bayes (\"MultinomialNB\", but there \n",
    "# are many other ways.\n",
    "#\n",
    "# Check out examples/scikit for inspiration.\n",
    "\n",
    "import pandas as pd\n",
    "import numpy as np\n",
    "import wandb\n",
    "\n",
    "\n",
    "wandb.init()"
   ]
  },
  {
   "cell_type": "markdown",
   "id": "a1568952-f43c-46d6-96d2-7d506201a125",
   "metadata": {},
   "source": [
    "## Data Preparation"
   ]
  },
  {
   "cell_type": "code",
   "execution_count": 13,
   "id": "8e5f5fb5-9606-471a-a750-345b09864a93",
   "metadata": {
    "tags": []
   },
   "outputs": [
    {
     "data": {
      "text/html": [
       "<div>\n",
       "<style scoped>\n",
       "    .dataframe tbody tr th:only-of-type {\n",
       "        vertical-align: middle;\n",
       "    }\n",
       "\n",
       "    .dataframe tbody tr th {\n",
       "        vertical-align: top;\n",
       "    }\n",
       "\n",
       "    .dataframe thead th {\n",
       "        text-align: right;\n",
       "    }\n",
       "</style>\n",
       "<table border=\"1\" class=\"dataframe\">\n",
       "  <thead>\n",
       "    <tr style=\"text-align: right;\">\n",
       "      <th></th>\n",
       "      <th>tweet_text</th>\n",
       "      <th>emotion_in_tweet_is_directed_at</th>\n",
       "      <th>is_there_an_emotion_directed_at_a_brand_or_product</th>\n",
       "    </tr>\n",
       "  </thead>\n",
       "  <tbody>\n",
       "    <tr>\n",
       "      <th>0</th>\n",
       "      <td>.@wesley83 I have a 3G iPhone. After 3 hrs twe...</td>\n",
       "      <td>iPhone</td>\n",
       "      <td>Negative emotion</td>\n",
       "    </tr>\n",
       "    <tr>\n",
       "      <th>1</th>\n",
       "      <td>@jessedee Know about @fludapp ? Awesome iPad/i...</td>\n",
       "      <td>iPad or iPhone App</td>\n",
       "      <td>Positive emotion</td>\n",
       "    </tr>\n",
       "    <tr>\n",
       "      <th>2</th>\n",
       "      <td>@swonderlin Can not wait for #iPad 2 also. The...</td>\n",
       "      <td>iPad</td>\n",
       "      <td>Positive emotion</td>\n",
       "    </tr>\n",
       "    <tr>\n",
       "      <th>3</th>\n",
       "      <td>@sxsw I hope this year's festival isn't as cra...</td>\n",
       "      <td>iPad or iPhone App</td>\n",
       "      <td>Negative emotion</td>\n",
       "    </tr>\n",
       "    <tr>\n",
       "      <th>4</th>\n",
       "      <td>@sxtxstate great stuff on Fri #SXSW: Marissa M...</td>\n",
       "      <td>Google</td>\n",
       "      <td>Positive emotion</td>\n",
       "    </tr>\n",
       "  </tbody>\n",
       "</table>\n",
       "</div>"
      ],
      "text/plain": [
       "                                          tweet_text  \\\n",
       "0  .@wesley83 I have a 3G iPhone. After 3 hrs twe...   \n",
       "1  @jessedee Know about @fludapp ? Awesome iPad/i...   \n",
       "2  @swonderlin Can not wait for #iPad 2 also. The...   \n",
       "3  @sxsw I hope this year's festival isn't as cra...   \n",
       "4  @sxtxstate great stuff on Fri #SXSW: Marissa M...   \n",
       "\n",
       "  emotion_in_tweet_is_directed_at  \\\n",
       "0                          iPhone   \n",
       "1              iPad or iPhone App   \n",
       "2                            iPad   \n",
       "3              iPad or iPhone App   \n",
       "4                          Google   \n",
       "\n",
       "  is_there_an_emotion_directed_at_a_brand_or_product  \n",
       "0                                   Negative emotion  \n",
       "1                                   Positive emotion  \n",
       "2                                   Positive emotion  \n",
       "3                                   Negative emotion  \n",
       "4                                   Positive emotion  "
      ]
     },
     "execution_count": 13,
     "metadata": {},
     "output_type": "execute_result"
    }
   ],
   "source": [
    "# Data Loading\n",
    "# Geting a pandas DataFrame object of all the data in the csv file:\n",
    "df = pd.read_csv('tweets.csv')\n",
    "df.head()"
   ]
  },
  {
   "cell_type": "code",
   "execution_count": 14,
   "id": "6b200318-9781-45a7-bc1c-b439d415c1ca",
   "metadata": {
    "tags": []
   },
   "outputs": [],
   "source": [
    "# Data Transformation \n",
    "# Get pandas Series object of the \"tweet text\" column:\n",
    "text = df['tweet_text']\n",
    "\n",
    "# Get pandas Series object of the \"emotion\" column:\n",
    "target = df['is_there_an_emotion_directed_at_a_brand_or_product']"
   ]
  },
  {
   "cell_type": "code",
   "execution_count": 15,
   "id": "d4522650-e42a-48da-93d3-ae9a836d427c",
   "metadata": {
    "tags": []
   },
   "outputs": [],
   "source": [
    "# Data cleaning \n",
    "# Remove the blank rows from the series:\n",
    "target = target[pd.notnull(text)]\n",
    "text = text[pd.notnull(text)]"
   ]
  },
  {
   "cell_type": "markdown",
   "id": "3bd80798-dd01-4223-9c9b-67f37e34c124",
   "metadata": {},
   "source": [
    "## Feature Engineering "
   ]
  },
  {
   "cell_type": "code",
   "execution_count": 18,
   "id": "4b12a48c-b136-40ad-a444-60ff63d051c0",
   "metadata": {
    "tags": []
   },
   "outputs": [],
   "source": [
    "from sklearn.feature_extraction.text import CountVectorizer, TfidfVectorizer\n",
    "count_vect = CountVectorizer()\n",
    "count_vect.fit(text)\n",
    "counts = count_vect.transform(text)"
   ]
  },
  {
   "cell_type": "code",
   "execution_count": null,
   "id": "e8fd424e-af75-4da4-82b9-10676559a084",
   "metadata": {},
   "outputs": [],
   "source": []
  }
 ],
 "metadata": {
  "kernelspec": {
   "display_name": "Python 3 (ipykernel)",
   "language": "python",
   "name": "python3"
  },
  "language_info": {
   "codemirror_mode": {
    "name": "ipython",
    "version": 3
   },
   "file_extension": ".py",
   "mimetype": "text/x-python",
   "name": "python",
   "nbconvert_exporter": "python",
   "pygments_lexer": "ipython3",
   "version": "3.11.3"
  }
 },
 "nbformat": 4,
 "nbformat_minor": 5
}
